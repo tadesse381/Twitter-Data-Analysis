{
 "cells": [
  {
   "cell_type": "markdown",
   "metadata": {
    "id": "XwFOba1pbdVc"
   },
   "source": [
    "## **Objective **\n",
    "### Social Media Tweet Analysis on Twitter Dataset\n",
    "*   Topic Modeling on Twitter Dataset\n",
    "\n",
    "\n",
    "*   Reference for [Topic modeling ](https://https://towardsdatascience.com/evaluate-topic-model-in-python-latent-dirichlet-allocation-lda-7d57484bb5d0)\n",
    "\n",
    "*   Sentiment analysis on Twitter Dataset\n",
    "\n"
   ]
  },
  {
   "cell_type": "markdown",
   "metadata": {
    "id": "SN9Lla4UO1SS"
   },
   "source": [
    "\n",
    "\n",
    "\n",
    "\n",
    "\n",
    "### **Business understanding**"
   ]
  },
  {
   "cell_type": "markdown",
   "metadata": {
    "id": "Dbu9rgu4iSTe"
   },
   "source": [
    "### **Topic modeling**\n",
    "Topic modeling is a type of statistical model for discovering the abstract \"topics\" that occur in a collection of texts.\n",
    " It is an unsupervised approach used for finding and observing the bunch of words (called “topics”) in large clusters of texts.\n",
    " **Topic models** are built around the idea that the semantics of our document are actually being governed by some hidden, or “latent,” variables that we are not observing.\n",
    "\n",
    "*   Our task here is to discover abstract topics from tweets.\n",
    "\n",
    "\n",
    "### **Sentiment analysis**\n",
    " It is used in social media monitoring, allowing businesses to gain insights about how customers feel about certain topics, and detect urgent issues in real time before they spiral out of control.\n",
    "\n",
    "\n",
    "*   Our task here is to classify a tweet as a positive or negative tweet sentiment wise.\n",
    "\n",
    "\n"
   ]
  },
  {
   "cell_type": "code",
   "execution_count": 34,
   "metadata": {
    "id": "Vsmv5wkz0VFu"
   },
   "outputs": [
    {
     "data": {
      "text/plain": [
       "0        0.0\n",
       "1        0.0\n",
       "2        0.0\n",
       "3        0.0\n",
       "4        0.0\n",
       "        ... \n",
       "24620    0.0\n",
       "24621    0.0\n",
       "24622    0.0\n",
       "24623    0.0\n",
       "24624    0.0\n",
       "Name: polarity, Length: 24625, dtype: float64"
      ]
     },
     "execution_count": 34,
     "metadata": {},
     "output_type": "execute_result"
    }
   ],
   "source": [
    "from extract_dataframe import read_json,TweetDfExtractor\n",
    "from clean_tweets_dataframe import Clean_Tweets\n",
    "import pandas as pd\n",
    "import matplotlib.pyplot as plt\n",
    "from sklearn.model_selection import train_test_split\n",
    "\n",
    "from sklearn.linear_model import SGDClassifier\n",
    "from sklearn.feature_extraction.text import CountVectorizer\n",
    "from sklearn.metrics import accuracy_score\n",
    "from sklearn. metrics import classification_report\n",
    "from sklearn.metrics import confusion_matrix\n",
    "from sklearn.pipeline import Pipeline\n",
    "from sklearn.feature_extraction.text import TfidfTransformer\n",
    "\n",
    "def text_catagory(p):\n",
    "    if p > 0:\n",
    "        return 'positive'\n",
    "    elif p < 0:\n",
    "        return 'negative'\n",
    "    else:\n",
    "        return 'neutral'\n",
    "    \n",
    "file_name = 'processed_tweet_data.csv'\n",
    "df = pd.read_csv(file_name)\n",
    "\n",
    "# see polarity\n",
    "df['polarity']"
   ]
  },
  {
   "cell_type": "code",
   "execution_count": 35,
   "metadata": {},
   "outputs": [
    {
     "name": "stdout",
     "output_type": "stream",
     "text": [
      "File Successfully Saved.!!!\n"
     ]
    }
   ],
   "source": [
    "_, tweet_list = read_json(\"data/Economic_Twitter_Data.json\")\n",
    "tweet = TweetDfExtractor(tweet_list)\n",
    "tweet_df = tweet.get_tweet_df() "
   ]
  },
  {
   "cell_type": "code",
   "execution_count": 36,
   "metadata": {},
   "outputs": [
    {
     "name": "stdout",
     "output_type": "stream",
     "text": [
      "Cleaned Tweets Data\n"
     ]
    }
   ],
   "source": [
    "cleaner=Clean_Tweets()\n",
    "cleaned_dataframe= cleaner.drop_duplicate(df)"
   ]
  },
  {
   "cell_type": "code",
   "execution_count": 37,
   "metadata": {},
   "outputs": [
    {
     "data": {
      "text/html": [
       "<div>\n",
       "<style scoped>\n",
       "    .dataframe tbody tr th:only-of-type {\n",
       "        vertical-align: middle;\n",
       "    }\n",
       "\n",
       "    .dataframe tbody tr th {\n",
       "        vertical-align: top;\n",
       "    }\n",
       "\n",
       "    .dataframe thead th {\n",
       "        text-align: right;\n",
       "    }\n",
       "</style>\n",
       "<table border=\"1\" class=\"dataframe\">\n",
       "  <thead>\n",
       "    <tr style=\"text-align: right;\">\n",
       "      <th></th>\n",
       "      <th>created_at</th>\n",
       "      <th>source</th>\n",
       "      <th>original_text</th>\n",
       "      <th>polarity</th>\n",
       "      <th>subjectivity</th>\n",
       "      <th>lang</th>\n",
       "      <th>favorite_count</th>\n",
       "      <th>retweet_count</th>\n",
       "      <th>original_author</th>\n",
       "      <th>followers_count</th>\n",
       "      <th>friends_count</th>\n",
       "      <th>possibly_sensitive</th>\n",
       "      <th>hashtags</th>\n",
       "      <th>user_mentions</th>\n",
       "      <th>place</th>\n",
       "    </tr>\n",
       "  </thead>\n",
       "  <tbody>\n",
       "    <tr>\n",
       "      <th>0</th>\n",
       "      <td>Fri Apr 22 22:20:18 +0000 2022</td>\n",
       "      <td>&lt;a href=\"http://twitter.com/download/android\" ...</td>\n",
       "      <td>RT @nikitheblogger: Irre: Annalena Baerbock sa...</td>\n",
       "      <td>0.0</td>\n",
       "      <td>0.0</td>\n",
       "      <td>de</td>\n",
       "      <td>2356</td>\n",
       "      <td>355.0</td>\n",
       "      <td>McMc74078966</td>\n",
       "      <td>3</td>\n",
       "      <td>12</td>\n",
       "      <td>NaN</td>\n",
       "      <td>NaN</td>\n",
       "      <td>NaN</td>\n",
       "      <td>NaN</td>\n",
       "    </tr>\n",
       "    <tr>\n",
       "      <th>1</th>\n",
       "      <td>Fri Apr 22 22:19:16 +0000 2022</td>\n",
       "      <td>&lt;a href=\"http://twitter.com/download/android\" ...</td>\n",
       "      <td>RT @sagt_mit: Merkel schaffte es in 1 Jahr 1 M...</td>\n",
       "      <td>0.0</td>\n",
       "      <td>0.0</td>\n",
       "      <td>de</td>\n",
       "      <td>1985</td>\n",
       "      <td>505.0</td>\n",
       "      <td>McMc74078966</td>\n",
       "      <td>3</td>\n",
       "      <td>12</td>\n",
       "      <td>NaN</td>\n",
       "      <td>NaN</td>\n",
       "      <td>NaN</td>\n",
       "      <td>NaN</td>\n",
       "    </tr>\n",
       "    <tr>\n",
       "      <th>2</th>\n",
       "      <td>Fri Apr 22 22:17:28 +0000 2022</td>\n",
       "      <td>&lt;a href=\"http://twitter.com/download/android\" ...</td>\n",
       "      <td>RT @Kryptonoun: @WRi007 Pharma in Lebensmittel...</td>\n",
       "      <td>0.0</td>\n",
       "      <td>0.0</td>\n",
       "      <td>de</td>\n",
       "      <td>16</td>\n",
       "      <td>4.0</td>\n",
       "      <td>McMc74078966</td>\n",
       "      <td>3</td>\n",
       "      <td>12</td>\n",
       "      <td>NaN</td>\n",
       "      <td>NaN</td>\n",
       "      <td>NaN</td>\n",
       "      <td>NaN</td>\n",
       "    </tr>\n",
       "    <tr>\n",
       "      <th>3</th>\n",
       "      <td>Fri Apr 22 22:17:20 +0000 2022</td>\n",
       "      <td>&lt;a href=\"http://twitter.com/download/android\" ...</td>\n",
       "      <td>RT @WRi007: Die #Deutschen sind ein braves Vol...</td>\n",
       "      <td>0.0</td>\n",
       "      <td>0.0</td>\n",
       "      <td>de</td>\n",
       "      <td>1242</td>\n",
       "      <td>332.0</td>\n",
       "      <td>McMc74078966</td>\n",
       "      <td>3</td>\n",
       "      <td>12</td>\n",
       "      <td>NaN</td>\n",
       "      <td>['Deutschen', 'Spritpreisen', 'inflation', 'Ab...</td>\n",
       "      <td>NaN</td>\n",
       "      <td>NaN</td>\n",
       "    </tr>\n",
       "    <tr>\n",
       "      <th>4</th>\n",
       "      <td>Fri Apr 22 22:13:15 +0000 2022</td>\n",
       "      <td>&lt;a href=\"http://twitter.com/download/android\" ...</td>\n",
       "      <td>RT @RolandTichy: Baerbock verkündet mal so neb...</td>\n",
       "      <td>0.0</td>\n",
       "      <td>0.0</td>\n",
       "      <td>de</td>\n",
       "      <td>1329</td>\n",
       "      <td>386.0</td>\n",
       "      <td>McMc74078966</td>\n",
       "      <td>3</td>\n",
       "      <td>12</td>\n",
       "      <td>NaN</td>\n",
       "      <td>NaN</td>\n",
       "      <td>NaN</td>\n",
       "      <td>NaN</td>\n",
       "    </tr>\n",
       "  </tbody>\n",
       "</table>\n",
       "</div>"
      ],
      "text/plain": [
       "                       created_at  \\\n",
       "0  Fri Apr 22 22:20:18 +0000 2022   \n",
       "1  Fri Apr 22 22:19:16 +0000 2022   \n",
       "2  Fri Apr 22 22:17:28 +0000 2022   \n",
       "3  Fri Apr 22 22:17:20 +0000 2022   \n",
       "4  Fri Apr 22 22:13:15 +0000 2022   \n",
       "\n",
       "                                              source  \\\n",
       "0  <a href=\"http://twitter.com/download/android\" ...   \n",
       "1  <a href=\"http://twitter.com/download/android\" ...   \n",
       "2  <a href=\"http://twitter.com/download/android\" ...   \n",
       "3  <a href=\"http://twitter.com/download/android\" ...   \n",
       "4  <a href=\"http://twitter.com/download/android\" ...   \n",
       "\n",
       "                                       original_text  polarity  subjectivity  \\\n",
       "0  RT @nikitheblogger: Irre: Annalena Baerbock sa...       0.0           0.0   \n",
       "1  RT @sagt_mit: Merkel schaffte es in 1 Jahr 1 M...       0.0           0.0   \n",
       "2  RT @Kryptonoun: @WRi007 Pharma in Lebensmittel...       0.0           0.0   \n",
       "3  RT @WRi007: Die #Deutschen sind ein braves Vol...       0.0           0.0   \n",
       "4  RT @RolandTichy: Baerbock verkündet mal so neb...       0.0           0.0   \n",
       "\n",
       "  lang  favorite_count  retweet_count original_author  followers_count  \\\n",
       "0   de            2356          355.0    McMc74078966                3   \n",
       "1   de            1985          505.0    McMc74078966                3   \n",
       "2   de              16            4.0    McMc74078966                3   \n",
       "3   de            1242          332.0    McMc74078966                3   \n",
       "4   de            1329          386.0    McMc74078966                3   \n",
       "\n",
       "   friends_count possibly_sensitive  \\\n",
       "0             12                NaN   \n",
       "1             12                NaN   \n",
       "2             12                NaN   \n",
       "3             12                NaN   \n",
       "4             12                NaN   \n",
       "\n",
       "                                            hashtags  user_mentions place  \n",
       "0                                                NaN            NaN   NaN  \n",
       "1                                                NaN            NaN   NaN  \n",
       "2                                                NaN            NaN   NaN  \n",
       "3  ['Deutschen', 'Spritpreisen', 'inflation', 'Ab...            NaN   NaN  \n",
       "4                                                NaN            NaN   NaN  "
      ]
     },
     "execution_count": 37,
     "metadata": {},
     "output_type": "execute_result"
    }
   ],
   "source": [
    "cleaned_dataframe.head()"
   ]
  },
  {
   "cell_type": "code",
   "execution_count": 38,
   "metadata": {},
   "outputs": [],
   "source": [
    "cleaned_dataframe=cleaner.convert_to_numbers(cleaned_dataframe)"
   ]
  },
  {
   "cell_type": "code",
   "execution_count": 39,
   "metadata": {},
   "outputs": [],
   "source": [
    "cleaned_dataframe=cleaner.remove_non_english_tweets(cleaned_dataframe)"
   ]
  },
  {
   "cell_type": "code",
   "execution_count": 40,
   "metadata": {},
   "outputs": [
    {
     "data": {
      "text/html": [
       "<div>\n",
       "<style scoped>\n",
       "    .dataframe tbody tr th:only-of-type {\n",
       "        vertical-align: middle;\n",
       "    }\n",
       "\n",
       "    .dataframe tbody tr th {\n",
       "        vertical-align: top;\n",
       "    }\n",
       "\n",
       "    .dataframe thead th {\n",
       "        text-align: right;\n",
       "    }\n",
       "</style>\n",
       "<table border=\"1\" class=\"dataframe\">\n",
       "  <thead>\n",
       "    <tr style=\"text-align: right;\">\n",
       "      <th></th>\n",
       "      <th>clean_text</th>\n",
       "      <th>polarity</th>\n",
       "    </tr>\n",
       "  </thead>\n",
       "  <tbody>\n",
       "    <tr>\n",
       "      <th>0</th>\n",
       "      <td>RT @nikitheblogger: Irre: Annalena Baerbock sa...</td>\n",
       "      <td>0.0</td>\n",
       "    </tr>\n",
       "    <tr>\n",
       "      <th>1</th>\n",
       "      <td>RT @sagt_mit: Merkel schaffte es in 1 Jahr 1 M...</td>\n",
       "      <td>0.0</td>\n",
       "    </tr>\n",
       "    <tr>\n",
       "      <th>2</th>\n",
       "      <td>RT @Kryptonoun: @WRi007 Pharma in Lebensmittel...</td>\n",
       "      <td>0.0</td>\n",
       "    </tr>\n",
       "    <tr>\n",
       "      <th>3</th>\n",
       "      <td>RT @WRi007: Die #Deutschen sind ein braves Vol...</td>\n",
       "      <td>0.0</td>\n",
       "    </tr>\n",
       "    <tr>\n",
       "      <th>4</th>\n",
       "      <td>RT @RolandTichy: Baerbock verkündet mal so neb...</td>\n",
       "      <td>0.0</td>\n",
       "    </tr>\n",
       "  </tbody>\n",
       "</table>\n",
       "</div>"
      ],
      "text/plain": [
       "                                          clean_text  polarity\n",
       "0  RT @nikitheblogger: Irre: Annalena Baerbock sa...       0.0\n",
       "1  RT @sagt_mit: Merkel schaffte es in 1 Jahr 1 M...       0.0\n",
       "2  RT @Kryptonoun: @WRi007 Pharma in Lebensmittel...       0.0\n",
       "3  RT @WRi007: Die #Deutschen sind ein braves Vol...       0.0\n",
       "4  RT @RolandTichy: Baerbock verkündet mal so neb...       0.0"
      ]
     },
     "execution_count": 40,
     "metadata": {},
     "output_type": "execute_result"
    }
   ],
   "source": [
    "\n",
    "cleaned_dataframe = df[['original_text', 'polarity']].rename({'original_text': 'clean_text'}, axis=1)\n",
    "cleaned_dataframe.head()"
   ]
  },
  {
   "cell_type": "code",
   "execution_count": 41,
   "metadata": {},
   "outputs": [],
   "source": [
    "# Apply text_category on the  𝐩𝐨𝐥𝐚𝐫𝐢𝐭𝐲  column of cleanTweet, form a new column called  𝐬𝐜𝐨𝐫𝐞\n",
    "cleaned_dataframe['score'] = cleaned_dataframe[\"polarity\"].map(text_catagory)"
   ]
  },
  {
   "cell_type": "code",
   "execution_count": 42,
   "metadata": {},
   "outputs": [
    {
     "data": {
      "text/html": [
       "<div>\n",
       "<style scoped>\n",
       "    .dataframe tbody tr th:only-of-type {\n",
       "        vertical-align: middle;\n",
       "    }\n",
       "\n",
       "    .dataframe tbody tr th {\n",
       "        vertical-align: top;\n",
       "    }\n",
       "\n",
       "    .dataframe thead th {\n",
       "        text-align: right;\n",
       "    }\n",
       "</style>\n",
       "<table border=\"1\" class=\"dataframe\">\n",
       "  <thead>\n",
       "    <tr style=\"text-align: right;\">\n",
       "      <th></th>\n",
       "      <th>clean_text</th>\n",
       "      <th>polarity</th>\n",
       "      <th>score</th>\n",
       "    </tr>\n",
       "  </thead>\n",
       "  <tbody>\n",
       "    <tr>\n",
       "      <th>0</th>\n",
       "      <td>RT @nikitheblogger: Irre: Annalena Baerbock sa...</td>\n",
       "      <td>0.0</td>\n",
       "      <td>neutral</td>\n",
       "    </tr>\n",
       "    <tr>\n",
       "      <th>1</th>\n",
       "      <td>RT @sagt_mit: Merkel schaffte es in 1 Jahr 1 M...</td>\n",
       "      <td>0.0</td>\n",
       "      <td>neutral</td>\n",
       "    </tr>\n",
       "    <tr>\n",
       "      <th>2</th>\n",
       "      <td>RT @Kryptonoun: @WRi007 Pharma in Lebensmittel...</td>\n",
       "      <td>0.0</td>\n",
       "      <td>neutral</td>\n",
       "    </tr>\n",
       "    <tr>\n",
       "      <th>3</th>\n",
       "      <td>RT @WRi007: Die #Deutschen sind ein braves Vol...</td>\n",
       "      <td>0.0</td>\n",
       "      <td>neutral</td>\n",
       "    </tr>\n",
       "    <tr>\n",
       "      <th>4</th>\n",
       "      <td>RT @RolandTichy: Baerbock verkündet mal so neb...</td>\n",
       "      <td>0.0</td>\n",
       "      <td>neutral</td>\n",
       "    </tr>\n",
       "  </tbody>\n",
       "</table>\n",
       "</div>"
      ],
      "text/plain": [
       "                                          clean_text  polarity    score\n",
       "0  RT @nikitheblogger: Irre: Annalena Baerbock sa...       0.0  neutral\n",
       "1  RT @sagt_mit: Merkel schaffte es in 1 Jahr 1 M...       0.0  neutral\n",
       "2  RT @Kryptonoun: @WRi007 Pharma in Lebensmittel...       0.0  neutral\n",
       "3  RT @WRi007: Die #Deutschen sind ein braves Vol...       0.0  neutral\n",
       "4  RT @RolandTichy: Baerbock verkündet mal so neb...       0.0  neutral"
      ]
     },
     "execution_count": 42,
     "metadata": {},
     "output_type": "execute_result"
    }
   ],
   "source": [
    "cleaned_dataframe.head()"
   ]
  },
  {
   "cell_type": "code",
   "execution_count": 43,
   "metadata": {},
   "outputs": [
    {
     "data": {
      "text/plain": [
       "<AxesSubplot:xlabel='score'>"
      ]
     },
     "execution_count": 43,
     "metadata": {},
     "output_type": "execute_result"
    },
    {
     "data": {
      "image/png": "[encoded data removed]",
      "text/plain": [
       "<Figure size 576x432 with 1 Axes>"
      ]
     },
     "metadata": {
      "needs_background": "light"
     },
     "output_type": "display_data"
    }
   ],
   "source": [
    "# visualize using BarChart\n",
    "fig,axis=plt.subplots(figsize=(8,6))\n",
    "cleaned_dataframe.groupby('score')['clean_text'].count().plot.bar(ax=axis)"
   ]
  },
  {
   "cell_type": "code",
   "execution_count": 54,
   "metadata": {},
   "outputs": [
    {
     "data": {
      "text/plain": [
       "<AxesSubplot:ylabel='clean_text'>"
      ]
     },
     "execution_count": 54,
     "metadata": {},
     "output_type": "execute_result"
    },
    {
     "data": {
      "image/png": "[encoded data removed]",
      "text/plain": [
       "<Figure size 576x432 with 1 Axes>"
      ]
     },
     "metadata": {},
     "output_type": "display_data"
    }
   ],
   "source": [
    "# visualize using PieChart\n",
    "fig,axis=plt.subplots(figsize=(8,6))\n",
    "cleaned_dataframe.groupby('score')['clean_text'].count().plot.pie(ax=axis)"
   ]
  },
  {
   "cell_type": "code",
   "execution_count": 45,
   "metadata": {},
   "outputs": [
    {
     "data": {
      "text/html": [
       "<div>\n",
       "<style scoped>\n",
       "    .dataframe tbody tr th:only-of-type {\n",
       "        vertical-align: middle;\n",
       "    }\n",
       "\n",
       "    .dataframe tbody tr th {\n",
       "        vertical-align: top;\n",
       "    }\n",
       "\n",
       "    .dataframe thead th {\n",
       "        text-align: right;\n",
       "    }\n",
       "</style>\n",
       "<table border=\"1\" class=\"dataframe\">\n",
       "  <thead>\n",
       "    <tr style=\"text-align: right;\">\n",
       "      <th></th>\n",
       "      <th>clean_text</th>\n",
       "      <th>polarity</th>\n",
       "      <th>score</th>\n",
       "    </tr>\n",
       "  </thead>\n",
       "  <tbody>\n",
       "    <tr>\n",
       "      <th>0</th>\n",
       "      <td>RT @nikitheblogger: Irre: Annalena Baerbock sa...</td>\n",
       "      <td>0.0</td>\n",
       "      <td>neutral</td>\n",
       "    </tr>\n",
       "    <tr>\n",
       "      <th>1</th>\n",
       "      <td>RT @sagt_mit: Merkel schaffte es in 1 Jahr 1 M...</td>\n",
       "      <td>0.0</td>\n",
       "      <td>neutral</td>\n",
       "    </tr>\n",
       "    <tr>\n",
       "      <th>2</th>\n",
       "      <td>RT @Kryptonoun: @WRi007 Pharma in Lebensmittel...</td>\n",
       "      <td>0.0</td>\n",
       "      <td>neutral</td>\n",
       "    </tr>\n",
       "    <tr>\n",
       "      <th>3</th>\n",
       "      <td>RT @WRi007: Die #Deutschen sind ein braves Vol...</td>\n",
       "      <td>0.0</td>\n",
       "      <td>neutral</td>\n",
       "    </tr>\n",
       "    <tr>\n",
       "      <th>4</th>\n",
       "      <td>RT @RolandTichy: Baerbock verkündet mal so neb...</td>\n",
       "      <td>0.0</td>\n",
       "      <td>neutral</td>\n",
       "    </tr>\n",
       "  </tbody>\n",
       "</table>\n",
       "</div>"
      ],
      "text/plain": [
       "                                          clean_text  polarity    score\n",
       "0  RT @nikitheblogger: Irre: Annalena Baerbock sa...       0.0  neutral\n",
       "1  RT @sagt_mit: Merkel schaffte es in 1 Jahr 1 M...       0.0  neutral\n",
       "2  RT @Kryptonoun: @WRi007 Pharma in Lebensmittel...       0.0  neutral\n",
       "3  RT @WRi007: Die #Deutschen sind ein braves Vol...       0.0  neutral\n",
       "4  RT @RolandTichy: Baerbock verkündet mal so neb...       0.0  neutral"
      ]
     },
     "execution_count": 45,
     "metadata": {},
     "output_type": "execute_result"
    }
   ],
   "source": [
    "# Remove rows from cleanTweet where  𝐩𝐨𝐥𝐚𝐫𝐢𝐭𝐲   =0  (i.e where  𝐬𝐜𝐨𝐫𝐞  = Neutral)\n",
    "cleanTweet = cleaned_dataframe[cleaned_dataframe['polarity'] != 0]\n",
    "\n",
    "# reset the frame index.\n",
    "cleaned_dataframe.reset_index(drop=True, inplace=True)\n",
    "cleaned_dataframe.head()"
   ]
  },
  {
   "cell_type": "code",
   "execution_count": 46,
   "metadata": {},
   "outputs": [
    {
     "data": {
      "text/html": [
       "<div>\n",
       "<style scoped>\n",
       "    .dataframe tbody tr th:only-of-type {\n",
       "        vertical-align: middle;\n",
       "    }\n",
       "\n",
       "    .dataframe tbody tr th {\n",
       "        vertical-align: top;\n",
       "    }\n",
       "\n",
       "    .dataframe thead th {\n",
       "        text-align: right;\n",
       "    }\n",
       "</style>\n",
       "<table border=\"1\" class=\"dataframe\">\n",
       "  <thead>\n",
       "    <tr style=\"text-align: right;\">\n",
       "      <th></th>\n",
       "      <th>clean_text</th>\n",
       "      <th>polarity</th>\n",
       "      <th>score</th>\n",
       "      <th>scoremap</th>\n",
       "    </tr>\n",
       "  </thead>\n",
       "  <tbody>\n",
       "    <tr>\n",
       "      <th>0</th>\n",
       "      <td>RT @nikitheblogger: Irre: Annalena Baerbock sa...</td>\n",
       "      <td>0.0</td>\n",
       "      <td>neutral</td>\n",
       "      <td>0</td>\n",
       "    </tr>\n",
       "    <tr>\n",
       "      <th>1</th>\n",
       "      <td>RT @sagt_mit: Merkel schaffte es in 1 Jahr 1 M...</td>\n",
       "      <td>0.0</td>\n",
       "      <td>neutral</td>\n",
       "      <td>0</td>\n",
       "    </tr>\n",
       "    <tr>\n",
       "      <th>2</th>\n",
       "      <td>RT @Kryptonoun: @WRi007 Pharma in Lebensmittel...</td>\n",
       "      <td>0.0</td>\n",
       "      <td>neutral</td>\n",
       "      <td>0</td>\n",
       "    </tr>\n",
       "    <tr>\n",
       "      <th>3</th>\n",
       "      <td>RT @WRi007: Die #Deutschen sind ein braves Vol...</td>\n",
       "      <td>0.0</td>\n",
       "      <td>neutral</td>\n",
       "      <td>0</td>\n",
       "    </tr>\n",
       "    <tr>\n",
       "      <th>4</th>\n",
       "      <td>RT @RolandTichy: Baerbock verkündet mal so neb...</td>\n",
       "      <td>0.0</td>\n",
       "      <td>neutral</td>\n",
       "      <td>0</td>\n",
       "    </tr>\n",
       "  </tbody>\n",
       "</table>\n",
       "</div>"
      ],
      "text/plain": [
       "                                          clean_text  polarity    score  \\\n",
       "0  RT @nikitheblogger: Irre: Annalena Baerbock sa...       0.0  neutral   \n",
       "1  RT @sagt_mit: Merkel schaffte es in 1 Jahr 1 M...       0.0  neutral   \n",
       "2  RT @Kryptonoun: @WRi007 Pharma in Lebensmittel...       0.0  neutral   \n",
       "3  RT @WRi007: Die #Deutschen sind ein braves Vol...       0.0  neutral   \n",
       "4  RT @RolandTichy: Baerbock verkündet mal so neb...       0.0  neutral   \n",
       "\n",
       "   scoremap  \n",
       "0         0  \n",
       "1         0  \n",
       "2         0  \n",
       "3         0  \n",
       "4         0  "
      ]
     },
     "execution_count": 46,
     "metadata": {},
     "output_type": "execute_result"
    }
   ],
   "source": [
    "# Construct a column  𝐬𝐜𝐨𝐫𝐞𝐦𝐚𝐩  Use the mapping {'positive':1, 'negative':0} on the  𝐬𝐜𝐨𝐫𝐞  column\n",
    "def get_score(value):\n",
    "    return 1 if (value == 'positive') else 0\n",
    "\n",
    "cleaned_dataframe['scoremap'] = cleaned_dataframe['score'].map(get_score)\n",
    "cleaned_dataframe.head()"
   ]
  },
  {
   "cell_type": "code",
   "execution_count": 47,
   "metadata": {},
   "outputs": [],
   "source": [
    "# Create feature and target variables (X,y) from  𝐜𝐥𝐞𝐚𝐧-𝐭𝐞𝐱𝐭  and  𝐬𝐜𝐨𝐫𝐞𝐦𝐚𝐩  columns respectively.\n",
    "X = cleaned_dataframe['clean_text']\n",
    "y = cleaned_dataframe['scoremap']"
   ]
  },
  {
   "cell_type": "code",
   "execution_count": 48,
   "metadata": {},
   "outputs": [],
   "source": [
    "# Use train_test_split function to construct (X_train, y_train) and (X_test, y_test) from (X,y)\n",
    "# i dont' know what it is actually doing\n",
    "x_train, x_test, y_train, y_test = train_test_split(X, y)"
   ]
  },
  {
   "cell_type": "code",
   "execution_count": 49,
   "metadata": {},
   "outputs": [
    {
     "data": {
      "text/plain": [
       "<18468x206383 sparse matrix of type '<class 'numpy.int64'>'\n",
       "\twith 255754 stored elements in Compressed Sparse Row format>"
      ]
     },
     "execution_count": 49,
     "metadata": {},
     "output_type": "execute_result"
    }
   ],
   "source": [
    "# Build an SGDClassifier model from the vectorize train text data. Use CountVectorizer() with a  trigram  parameter.\n",
    "# pipeline = Pipeline([\n",
    "#     ('vector',  CountVectorizer(analyzer='word', ngram_range=(3,3))),\n",
    "#     ('tfitf', TfidfTransformer()),\n",
    "#     ('clf', SGDClassifier(max_iter=1000))\n",
    "# ])\n",
    "# X_train_count = pipeline.fit(x_train, y_train)\n",
    "# can't run this for y_train\n",
    "# y_predection = X_train_count.predict(x_test)\n",
    "cv = CountVectorizer(ngram_range=(3, 3))\n",
    "X_train_cv = cv.fit_transform(x_train)\n",
    "X_test_cv = cv.transform(x_test)\n",
    "X_train_cv"
   ]
  },
  {
   "cell_type": "code",
   "execution_count": 50,
   "metadata": {},
   "outputs": [],
   "source": [
    "# Evaluate your model on the test data.\n",
    "clf = SGDClassifier()\n",
    "clf.fit(X_train_cv, y_train)\n",
    "predictions = clf.predict(X_test_cv)"
   ]
  },
  {
   "cell_type": "code",
   "execution_count": 51,
   "metadata": {},
   "outputs": [
    {
     "data": {
      "text/plain": [
       "array([[4513,   15],\n",
       "       [1232,  397]], dtype=int64)"
      ]
     },
     "execution_count": 51,
     "metadata": {},
     "output_type": "execute_result"
    }
   ],
   "source": [
    "results = confusion_matrix(y_test, predictions) \n",
    "results"
   ]
  },
  {
   "cell_type": "code",
   "execution_count": 52,
   "metadata": {},
   "outputs": [
    {
     "data": {
      "text/plain": [
       "0.7974662985220075"
      ]
     },
     "execution_count": 52,
     "metadata": {},
     "output_type": "execute_result"
    }
   ],
   "source": [
    "# accuracy\n",
    "accuracy_score(y_test, predictions)"
   ]
  },
  {
   "cell_type": "code",
   "execution_count": 53,
   "metadata": {},
   "outputs": [
    {
     "name": "stdout",
     "output_type": "stream",
     "text": [
      "              precision    recall  f1-score   support\n",
      "\n",
      "           0       0.79      1.00      0.88      4528\n",
      "           1       0.96      0.24      0.39      1629\n",
      "\n",
      "    accuracy                           0.80      6157\n",
      "   macro avg       0.87      0.62      0.63      6157\n",
      "weighted avg       0.83      0.80      0.75      6157\n",
      "\n"
     ]
    }
   ],
   "source": [
    "# Classification report\n",
    "print(classification_report(y_test, predictions))"
   ]
  },
  {
   "cell_type": "markdown",
   "metadata": {
    "id": "REuN7elQ0Vvr"
   },
   "source": [
    "**Topic modeling **is a machine learning technique that automatically analyzes text data to determine cluster words for a set of documents. \n",
    "\n",
    "\n",
    "*   unsupervised machine learning because it doesn’t require a predefined list of tags or training data that’s been previously classified by humans.\n",
    "*   doesn’t require training, it’s a quick and easy way to start analyzing your data."
   ]
  },
  {
   "cell_type": "markdown",
   "metadata": {
    "id": "hQuEQFUIy2_3"
   },
   "source": [
    "## Data Understanding\n",
    "### Loading necessary packages"
   ]
  },
  {
   "cell_type": "code",
   "execution_count": 56,
   "metadata": {
    "id": "CTUmMBAOyt-g"
   },
   "outputs": [],
   "source": [
    "import warnings\n",
    "warnings.filterwarnings('ignore')\n",
    "import matplotlib.pyplot as plt\n",
    "import seaborn as sns\n",
    "from wordcloud import STOPWORDS,WordCloud\n",
    "import gensim\n",
    "from gensim.models import CoherenceModel\n",
    "from gensim import corpora\n",
    "import pandas as pd\n",
    "from pprint import pprint\n",
    "import string\n",
    "import os\n",
    "import re"
   ]
  },
  {
   "cell_type": "code",
   "execution_count": null,
   "metadata": {},
   "outputs": [],
   "source": []
  },
  {
   "cell_type": "markdown",
   "metadata": {
    "id": "J4_9Y5q6zOK-"
   },
   "source": [
    "Data acquisition\n",
    "\n",
    "For this example we have two option for data acquisition:\n",
    "\n",
    "*   You can download Twitter dataset directly from Twitter\n",
    "*   By registering as a developer using this link [Here](https://developer.twitter.com/en) \n",
    "\n",
    "*   Or you can use downloaded data found at Week0/data/cleaned_fintech_data.csv \n",
    "\n"
   ]
  },
  {
   "cell_type": "code",
   "execution_count": 57,
   "metadata": {
    "colab": {
     "base_uri": "https://localhost:8080/",
     "height": 86
    },
    "id": "aE9Bs0UxrG5z",
    "outputId": "c0e72b04-e4c7-4123-8a3a-dd40aee64f89"
   },
   "outputs": [
    {
     "data": {
      "text/html": [
       "<div>\n",
       "<style scoped>\n",
       "    .dataframe tbody tr th:only-of-type {\n",
       "        vertical-align: middle;\n",
       "    }\n",
       "\n",
       "    .dataframe tbody tr th {\n",
       "        vertical-align: top;\n",
       "    }\n",
       "\n",
       "    .dataframe thead th {\n",
       "        text-align: right;\n",
       "    }\n",
       "</style>\n",
       "<table border=\"1\" class=\"dataframe\">\n",
       "  <thead>\n",
       "    <tr style=\"text-align: right;\">\n",
       "      <th></th>\n",
       "      <th>clean_text</th>\n",
       "      <th>polarity</th>\n",
       "      <th>score</th>\n",
       "      <th>scoremap</th>\n",
       "    </tr>\n",
       "  </thead>\n",
       "  <tbody>\n",
       "    <tr>\n",
       "      <th>0</th>\n",
       "      <td>RT @nikitheblogger: Irre: Annalena Baerbock sa...</td>\n",
       "      <td>0.0</td>\n",
       "      <td>neutral</td>\n",
       "      <td>0</td>\n",
       "    </tr>\n",
       "    <tr>\n",
       "      <th>1</th>\n",
       "      <td>RT @sagt_mit: Merkel schaffte es in 1 Jahr 1 M...</td>\n",
       "      <td>0.0</td>\n",
       "      <td>neutral</td>\n",
       "      <td>0</td>\n",
       "    </tr>\n",
       "    <tr>\n",
       "      <th>2</th>\n",
       "      <td>RT @Kryptonoun: @WRi007 Pharma in Lebensmittel...</td>\n",
       "      <td>0.0</td>\n",
       "      <td>neutral</td>\n",
       "      <td>0</td>\n",
       "    </tr>\n",
       "    <tr>\n",
       "      <th>3</th>\n",
       "      <td>RT @WRi007: Die #Deutschen sind ein braves Vol...</td>\n",
       "      <td>0.0</td>\n",
       "      <td>neutral</td>\n",
       "      <td>0</td>\n",
       "    </tr>\n",
       "    <tr>\n",
       "      <th>4</th>\n",
       "      <td>RT @RolandTichy: Baerbock verkündet mal so neb...</td>\n",
       "      <td>0.0</td>\n",
       "      <td>neutral</td>\n",
       "      <td>0</td>\n",
       "    </tr>\n",
       "    <tr>\n",
       "      <th>...</th>\n",
       "      <td>...</td>\n",
       "      <td>...</td>\n",
       "      <td>...</td>\n",
       "      <td>...</td>\n",
       "    </tr>\n",
       "    <tr>\n",
       "      <th>24620</th>\n",
       "      <td>RT @waglenikhil: आपल्या घरातल्या कोणत्याही कार...</td>\n",
       "      <td>0.0</td>\n",
       "      <td>neutral</td>\n",
       "      <td>0</td>\n",
       "    </tr>\n",
       "    <tr>\n",
       "      <th>24621</th>\n",
       "      <td>RT @yadavtejashwi: चौहरमल नगर, फुलवारी शरीफ मे...</td>\n",
       "      <td>0.0</td>\n",
       "      <td>neutral</td>\n",
       "      <td>0</td>\n",
       "    </tr>\n",
       "    <tr>\n",
       "      <th>24622</th>\n",
       "      <td>RT @Parthtiwari25: Gujarat Congress MLA arrest...</td>\n",
       "      <td>0.0</td>\n",
       "      <td>neutral</td>\n",
       "      <td>0</td>\n",
       "    </tr>\n",
       "    <tr>\n",
       "      <th>24623</th>\n",
       "      <td>RT @news24tvchannel: CM नीतीश कुमार ने तेजस्वी...</td>\n",
       "      <td>0.0</td>\n",
       "      <td>neutral</td>\n",
       "      <td>0</td>\n",
       "    </tr>\n",
       "    <tr>\n",
       "      <th>24624</th>\n",
       "      <td>RT @suvegrathi: भगवान और खुदा आपस में बात कर र...</td>\n",
       "      <td>0.0</td>\n",
       "      <td>neutral</td>\n",
       "      <td>0</td>\n",
       "    </tr>\n",
       "  </tbody>\n",
       "</table>\n",
       "<p>24625 rows × 4 columns</p>\n",
       "</div>"
      ],
      "text/plain": [
       "                                              clean_text  polarity    score  \\\n",
       "0      RT @nikitheblogger: Irre: Annalena Baerbock sa...       0.0  neutral   \n",
       "1      RT @sagt_mit: Merkel schaffte es in 1 Jahr 1 M...       0.0  neutral   \n",
       "2      RT @Kryptonoun: @WRi007 Pharma in Lebensmittel...       0.0  neutral   \n",
       "3      RT @WRi007: Die #Deutschen sind ein braves Vol...       0.0  neutral   \n",
       "4      RT @RolandTichy: Baerbock verkündet mal so neb...       0.0  neutral   \n",
       "...                                                  ...       ...      ...   \n",
       "24620  RT @waglenikhil: आपल्या घरातल्या कोणत्याही कार...       0.0  neutral   \n",
       "24621  RT @yadavtejashwi: चौहरमल नगर, फुलवारी शरीफ मे...       0.0  neutral   \n",
       "24622  RT @Parthtiwari25: Gujarat Congress MLA arrest...       0.0  neutral   \n",
       "24623  RT @news24tvchannel: CM नीतीश कुमार ने तेजस्वी...       0.0  neutral   \n",
       "24624  RT @suvegrathi: भगवान और खुदा आपस में बात कर र...       0.0  neutral   \n",
       "\n",
       "       scoremap  \n",
       "0             0  \n",
       "1             0  \n",
       "2             0  \n",
       "3             0  \n",
       "4             0  \n",
       "...         ...  \n",
       "24620         0  \n",
       "24621         0  \n",
       "24622         0  \n",
       "24623         0  \n",
       "24624         0  \n",
       "\n",
       "[24625 rows x 4 columns]"
      ]
     },
     "execution_count": 57,
     "metadata": {},
     "output_type": "execute_result"
    }
   ],
   "source": [
    "#tweets_df=pd.read_csv('cleaned_fintech_data.csv')\n",
    "cleaned_dataframe.dropna()\n"
   ]
  },
  {
   "cell_type": "code",
   "execution_count": 58,
   "metadata": {
    "colab": {
     "base_uri": "https://localhost:8080/"
    },
    "id": "31p0WZaVQbDG",
    "outputId": "9c1f4124-fa5e-42cb-aa1f-035b2c4b70f7"
   },
   "outputs": [
    {
     "data": {
      "text/plain": [
       "24625"
      ]
     },
     "execution_count": 58,
     "metadata": {},
     "output_type": "execute_result"
    }
   ],
   "source": [
    "len(cleaned_dataframe)"
   ]
  },
  {
   "cell_type": "code",
   "execution_count": 60,
   "metadata": {},
   "outputs": [
    {
     "data": {
      "text/html": [
       "<div>\n",
       "<style scoped>\n",
       "    .dataframe tbody tr th:only-of-type {\n",
       "        vertical-align: middle;\n",
       "    }\n",
       "\n",
       "    .dataframe tbody tr th {\n",
       "        vertical-align: top;\n",
       "    }\n",
       "\n",
       "    .dataframe thead th {\n",
       "        text-align: right;\n",
       "    }\n",
       "</style>\n",
       "<table border=\"1\" class=\"dataframe\">\n",
       "  <thead>\n",
       "    <tr style=\"text-align: right;\">\n",
       "      <th></th>\n",
       "      <th>clean_text</th>\n",
       "      <th>polarity</th>\n",
       "    </tr>\n",
       "  </thead>\n",
       "  <tbody>\n",
       "    <tr>\n",
       "      <th>0</th>\n",
       "      <td>RT @nikitheblogger: Irre: Annalena Baerbock sa...</td>\n",
       "      <td>0.0</td>\n",
       "    </tr>\n",
       "    <tr>\n",
       "      <th>1</th>\n",
       "      <td>RT @sagt_mit: Merkel schaffte es in 1 Jahr 1 M...</td>\n",
       "      <td>0.0</td>\n",
       "    </tr>\n",
       "    <tr>\n",
       "      <th>2</th>\n",
       "      <td>RT @Kryptonoun: @WRi007 Pharma in Lebensmittel...</td>\n",
       "      <td>0.0</td>\n",
       "    </tr>\n",
       "    <tr>\n",
       "      <th>3</th>\n",
       "      <td>RT @WRi007: Die #Deutschen sind ein braves Vol...</td>\n",
       "      <td>0.0</td>\n",
       "    </tr>\n",
       "    <tr>\n",
       "      <th>4</th>\n",
       "      <td>RT @RolandTichy: Baerbock verkündet mal so neb...</td>\n",
       "      <td>0.0</td>\n",
       "    </tr>\n",
       "  </tbody>\n",
       "</table>\n",
       "</div>"
      ],
      "text/plain": [
       "                                          clean_text  polarity\n",
       "0  RT @nikitheblogger: Irre: Annalena Baerbock sa...       0.0\n",
       "1  RT @sagt_mit: Merkel schaffte es in 1 Jahr 1 M...       0.0\n",
       "2  RT @Kryptonoun: @WRi007 Pharma in Lebensmittel...       0.0\n",
       "3  RT @WRi007: Die #Deutschen sind ein braves Vol...       0.0\n",
       "4  RT @RolandTichy: Baerbock verkündet mal so neb...       0.0"
      ]
     },
     "execution_count": 60,
     "metadata": {},
     "output_type": "execute_result"
    }
   ],
   "source": [
    "cleaned_dataframe = df[['original_text', 'polarity']].rename({'original_text': 'clean_text'}, axis=1)\n",
    "cleaned_dataframe.head()"
   ]
  },
  {
   "cell_type": "code",
   "execution_count": 61,
   "metadata": {},
   "outputs": [],
   "source": [
    "# Apply text_category on the  𝐩𝐨𝐥𝐚𝐫𝐢𝐭𝐲  column of cleanTweet, form a new column called  𝐬𝐜𝐨𝐫𝐞\n",
    "cleaned_dataframe['score'] = cleaned_dataframe[\"polarity\"].map(text_catagory)"
   ]
  },
  {
   "cell_type": "code",
   "execution_count": 62,
   "metadata": {},
   "outputs": [
    {
     "data": {
      "text/html": [
       "<div>\n",
       "<style scoped>\n",
       "    .dataframe tbody tr th:only-of-type {\n",
       "        vertical-align: middle;\n",
       "    }\n",
       "\n",
       "    .dataframe tbody tr th {\n",
       "        vertical-align: top;\n",
       "    }\n",
       "\n",
       "    .dataframe thead th {\n",
       "        text-align: right;\n",
       "    }\n",
       "</style>\n",
       "<table border=\"1\" class=\"dataframe\">\n",
       "  <thead>\n",
       "    <tr style=\"text-align: right;\">\n",
       "      <th></th>\n",
       "      <th>clean_text</th>\n",
       "      <th>polarity</th>\n",
       "      <th>score</th>\n",
       "    </tr>\n",
       "  </thead>\n",
       "  <tbody>\n",
       "    <tr>\n",
       "      <th>0</th>\n",
       "      <td>RT @Safka111: Sorry als Mutter von 3 Kindern, ...</td>\n",
       "      <td>-0.50</td>\n",
       "      <td>negative</td>\n",
       "    </tr>\n",
       "    <tr>\n",
       "      <th>1</th>\n",
       "      <td>RT @NorthstarCharts: The 10-year yield is tell...</td>\n",
       "      <td>0.16</td>\n",
       "      <td>positive</td>\n",
       "    </tr>\n",
       "    <tr>\n",
       "      <th>2</th>\n",
       "      <td>RT @MichaelAArouet: German 10y mortgage rate w...</td>\n",
       "      <td>0.15</td>\n",
       "      <td>positive</td>\n",
       "    </tr>\n",
       "    <tr>\n",
       "      <th>3</th>\n",
       "      <td>RT @biancoresearch: Rates rise until something...</td>\n",
       "      <td>-0.40</td>\n",
       "      <td>negative</td>\n",
       "    </tr>\n",
       "    <tr>\n",
       "      <th>4</th>\n",
       "      <td>RT @LanceRoberts: Buying opportunities like th...</td>\n",
       "      <td>-0.10</td>\n",
       "      <td>negative</td>\n",
       "    </tr>\n",
       "  </tbody>\n",
       "</table>\n",
       "</div>"
      ],
      "text/plain": [
       "                                          clean_text  polarity     score\n",
       "0  RT @Safka111: Sorry als Mutter von 3 Kindern, ...     -0.50  negative\n",
       "1  RT @NorthstarCharts: The 10-year yield is tell...      0.16  positive\n",
       "2  RT @MichaelAArouet: German 10y mortgage rate w...      0.15  positive\n",
       "3  RT @biancoresearch: Rates rise until something...     -0.40  negative\n",
       "4  RT @LanceRoberts: Buying opportunities like th...     -0.10  negative"
      ]
     },
     "execution_count": 62,
     "metadata": {},
     "output_type": "execute_result"
    }
   ],
   "source": [
    "# Remove rows from cleanTweet where  𝐩𝐨𝐥𝐚𝐫𝐢𝐭𝐲   =0  (i.e where  𝐬𝐜𝐨𝐫𝐞  = Neutral)\n",
    "cleaned_dataframe = cleaned_dataframe[cleaned_dataframe['polarity'] != 0]\n",
    "\n",
    "# reset the frame index.\n",
    "cleanTweet.reset_index(drop=True, inplace=True)\n",
    "cleanTweet.head()"
   ]
  },
  {
   "cell_type": "code",
   "execution_count": 63,
   "metadata": {},
   "outputs": [
    {
     "data": {
      "text/html": [
       "<div>\n",
       "<style scoped>\n",
       "    .dataframe tbody tr th:only-of-type {\n",
       "        vertical-align: middle;\n",
       "    }\n",
       "\n",
       "    .dataframe tbody tr th {\n",
       "        vertical-align: top;\n",
       "    }\n",
       "\n",
       "    .dataframe thead th {\n",
       "        text-align: right;\n",
       "    }\n",
       "</style>\n",
       "<table border=\"1\" class=\"dataframe\">\n",
       "  <thead>\n",
       "    <tr style=\"text-align: right;\">\n",
       "      <th></th>\n",
       "      <th>clean_text</th>\n",
       "      <th>polarity</th>\n",
       "      <th>score</th>\n",
       "      <th>scoremap</th>\n",
       "    </tr>\n",
       "  </thead>\n",
       "  <tbody>\n",
       "    <tr>\n",
       "      <th>10</th>\n",
       "      <td>RT @Safka111: Sorry als Mutter von 3 Kindern, ...</td>\n",
       "      <td>-0.50</td>\n",
       "      <td>negative</td>\n",
       "      <td>0</td>\n",
       "    </tr>\n",
       "    <tr>\n",
       "      <th>38</th>\n",
       "      <td>RT @NorthstarCharts: The 10-year yield is tell...</td>\n",
       "      <td>0.16</td>\n",
       "      <td>positive</td>\n",
       "      <td>1</td>\n",
       "    </tr>\n",
       "    <tr>\n",
       "      <th>39</th>\n",
       "      <td>RT @MichaelAArouet: German 10y mortgage rate w...</td>\n",
       "      <td>0.15</td>\n",
       "      <td>positive</td>\n",
       "      <td>1</td>\n",
       "    </tr>\n",
       "    <tr>\n",
       "      <th>43</th>\n",
       "      <td>RT @biancoresearch: Rates rise until something...</td>\n",
       "      <td>-0.40</td>\n",
       "      <td>negative</td>\n",
       "      <td>0</td>\n",
       "    </tr>\n",
       "    <tr>\n",
       "      <th>44</th>\n",
       "      <td>RT @LanceRoberts: Buying opportunities like th...</td>\n",
       "      <td>-0.10</td>\n",
       "      <td>negative</td>\n",
       "      <td>0</td>\n",
       "    </tr>\n",
       "  </tbody>\n",
       "</table>\n",
       "</div>"
      ],
      "text/plain": [
       "                                           clean_text  polarity     score  \\\n",
       "10  RT @Safka111: Sorry als Mutter von 3 Kindern, ...     -0.50  negative   \n",
       "38  RT @NorthstarCharts: The 10-year yield is tell...      0.16  positive   \n",
       "39  RT @MichaelAArouet: German 10y mortgage rate w...      0.15  positive   \n",
       "43  RT @biancoresearch: Rates rise until something...     -0.40  negative   \n",
       "44  RT @LanceRoberts: Buying opportunities like th...     -0.10  negative   \n",
       "\n",
       "    scoremap  \n",
       "10         0  \n",
       "38         1  \n",
       "39         1  \n",
       "43         0  \n",
       "44         0  "
      ]
     },
     "execution_count": 63,
     "metadata": {},
     "output_type": "execute_result"
    }
   ],
   "source": [
    "# Construct a column  𝐬𝐜𝐨𝐫𝐞𝐦𝐚𝐩  Use the mapping {'positive':1, 'negative':0} on the  𝐬𝐜𝐨𝐫𝐞  column\n",
    "def get_score(value):\n",
    "    return 1 if (value == 'positive') else 0\n",
    "\n",
    "cleaned_dataframe['scoremap'] = cleaned_dataframe['score'].map(get_score)\n",
    "cleaned_dataframe.head()"
   ]
  },
  {
   "cell_type": "code",
   "execution_count": 64,
   "metadata": {
    "id": "zoI1crVvCCxY"
   },
   "outputs": [],
   "source": [
    "class PrepareData:\n",
    "  def __init__(self,df):\n",
    "    self.df=df\n",
    "    \n",
    "  def preprocess_data(self):\n",
    "    #cleanTweet = self.df.loc[self.df['lang'] ==\"en\"]\n",
    "\n",
    "    \n",
    "    #text Preprocessing\n",
    "    cleaned_dataframe['clean_text']=cleaned_dataframe['clean_text'].astype(str)\n",
    "    cleaned_dataframe['clean_text'] = cleaned_dataframe['clean_text'].apply(lambda x: x.lower())\n",
    "    cleaned_dataframe['clean_text']= cleaned_dataframe['clean_text'].apply(lambda x: x.translate(str.maketrans(' ', ' ', string.punctuation)))\n",
    "    \n",
    "    #Converting tweets to list of words For feature engineering\n",
    "    sentence_list = [tweet for tweet in cleaned_dataframe['clean_text']]\n",
    "    word_list = [sent.split() for sent in sentence_list]\n",
    "\n",
    "    #Create dictionary which contains Id and word \n",
    "    word_to_id = corpora.Dictionary(word_list)\n",
    "    corpus_1= [word_to_id.doc2bow(tweet) for tweet in word_list]\n",
    "\n",
    "\n",
    "\n",
    "    \n",
    "    return word_list, word_to_id, corpus_1\n"
   ]
  },
  {
   "cell_type": "code",
   "execution_count": 65,
   "metadata": {
    "id": "YNvtCNYKEKco"
   },
   "outputs": [],
   "source": [
    "PrepareData_obj=PrepareData(cleaned_dataframe)\n",
    "word_list ,id2word,corpus=PrepareData_obj.preprocess_data()"
   ]
  },
  {
   "cell_type": "markdown",
   "metadata": {
    "id": "UiOucOjxYYZl"
   },
   "source": [
    "### Topic Modeling using Latent Dirichlet Allocation \n",
    "based on the distributional hypothesis, (i.e. similar topics make use of similar words) and the statistical mixture hypothesis (i.e. documents talk about several topics) for which a statistical distribution can be determined. \n",
    "\n",
    "*  The purpose of LDA is mapping each teweets in our corpus to a set of topics \n",
    "which covers a good deal of the words in the tweet\n",
    "\n"
   ]
  },
  {
   "cell_type": "code",
   "execution_count": 66,
   "metadata": {
    "id": "aHqC02L_NUMG"
   },
   "outputs": [],
   "source": [
    "# Build LDA model\n",
    "lda_model = gensim.models.ldamodel.LdaModel(corpus,\n",
    "                                           id2word=id2word,\n",
    "                                           num_topics=5, \n",
    "                                           random_state=100,\n",
    "                                           update_every=1,\n",
    "                                           chunksize=100,\n",
    "                                           passes=10,\n",
    "                                           alpha='auto',\n",
    "                                           per_word_topics=True)"
   ]
  },
  {
   "cell_type": "code",
   "execution_count": 67,
   "metadata": {
    "colab": {
     "base_uri": "https://localhost:8080/"
    },
    "id": "aa5pVKgnmpzn",
    "outputId": "83d42d3b-4d06-4974-fda2-54c13ca7a9d7"
   },
   "outputs": [
    {
     "name": "stdout",
     "output_type": "stream",
     "text": [
      "[(0,\n",
      "  [('amp', 0.02563563),\n",
      "   ('her', 0.014379377),\n",
      "   ('go', 0.012811935),\n",
      "   ('when', 0.01020683),\n",
      "   ('down', 0.0101953875),\n",
      "   ('aitcofficial', 0.010168042),\n",
      "   ('tomorrow', 0.0069517787),\n",
      "   ('sri', 0.0062129335),\n",
      "   ('very', 0.0059756753),\n",
      "   ('minister', 0.005385915)]),\n",
      " (1,\n",
      "  [('the', 0.047047418),\n",
      "   ('rt', 0.039100487),\n",
      "   ('to', 0.03416059),\n",
      "   ('of', 0.024893278),\n",
      "   ('in', 0.02334265),\n",
      "   ('a', 0.021714842),\n",
      "   ('is', 0.018764243),\n",
      "   ('and', 0.01840655),\n",
      "   ('for', 0.017001826),\n",
      "   ('on', 0.011824759)]),\n",
      " (2,\n",
      "  [('follow', 0.039738808),\n",
      "   ('100', 0.021618586),\n",
      "   ('know', 0.015253496),\n",
      "   ('last', 0.0105579635),\n",
      "   ('may', 0.00950971),\n",
      "   ('thanks', 0.008246726),\n",
      "   ('week', 0.0073623233),\n",
      "   ('covid19', 0.007110613),\n",
      "   ('1', 0.007044353),\n",
      "   ('cases', 0.0065873526)]),\n",
      " (3,\n",
      "  [('about', 0.019880366),\n",
      "   ('really', 0.010335476),\n",
      "   ('news', 0.00921919),\n",
      "   ('media', 0.008091885),\n",
      "   ('fuel', 0.00733606),\n",
      "   ('the…', 0.007185671),\n",
      "   ('crisis', 0.0070009087),\n",
      "   ('person', 0.006899845),\n",
      "   ('protest', 0.006703478),\n",
      "   ('learn', 0.006495894)]),\n",
      " (4,\n",
      "  [('out', 0.027805883),\n",
      "   ('details', 0.019832823),\n",
      "   ('online', 0.019075792),\n",
      "   ('2', 0.011432433),\n",
      "   ('free', 0.010925839),\n",
      "   ('happy', 0.008894225),\n",
      "   ('thank', 0.0078058518),\n",
      "   ('live', 0.007454092),\n",
      "   ('sure', 0.0071962955),\n",
      "   ('social', 0.0070736925)])]\n"
     ]
    }
   ],
   "source": [
    "\n",
    "\n",
    "pprint(lda_model.show_topics(formatted=False))"
   ]
  },
  {
   "cell_type": "markdown",
   "metadata": {
    "id": "0dDmumROo4zX"
   },
   "source": [
    "Each line is a topic with individual topic terms and weights. Topic0  can be termed as climate change, and Topic4 can be termed as government and carbon emission."
   ]
  },
  {
   "cell_type": "markdown",
   "metadata": {
    "id": "1pLR7-4AtZzT"
   },
   "source": [
    "# **Model Analysis**\n",
    "\n",
    "Perplexity is also a measure of model quality and in natural language processing is often used as “perplexity per number of words”. It describes how well a model predicts a sample, i.e. how much it is “perplexed” by a sample from the observed data. The lower the score, the better the model for the given data.\n",
    "\n",
    "A coherence matrix is used to test the model for accuracy. Topic coherence is a measure that compares different topic models based on their human-interpretability. The coherence score ‘C_V’ provides a numerical value to the interpretability of the topics"
   ]
  },
  {
   "cell_type": "code",
   "execution_count": 68,
   "metadata": {
    "colab": {
     "base_uri": "https://localhost:8080/"
    },
    "id": "JWDGb45QqRoZ",
    "outputId": "da168d8d-7bdd-4003-c253-29ede38c7ee0"
   },
   "outputs": [
    {
     "name": "stdout",
     "output_type": "stream",
     "text": [
      "\n",
      "Perplexity:  -9.129661678230043\n",
      "\n",
      " Ldamodel Coherence Score/Accuracy on Tweets:  0.5076556491405557\n"
     ]
    }
   ],
   "source": [
    "# Compute Perplexity\n",
    "\n",
    "#It's a measure of how good the model is. The lower the better. Perplexity is a negative value\n",
    "print('\\nPerplexity: ', lda_model.log_perplexity(corpus))  \n",
    "doc_lda = lda_model[corpus]\n",
    "\n",
    "\n",
    "# Compute Coherence Score\n",
    "coherence_model_lda = CoherenceModel(model=lda_model, texts=word_list, dictionary=id2word, coherence='c_v')\n",
    "coherence_lda = coherence_model_lda.get_coherence()\n",
    "print('\\n Ldamodel Coherence Score/Accuracy on Tweets: ', coherence_lda)"
   ]
  },
  {
   "cell_type": "markdown",
   "metadata": {
    "id": "_KR1oX1q5dUD"
   },
   "source": [
    "Basic Ldamodel Coherence Score 0.58 This means that the model has performed reasonably well in topic modeling."
   ]
  },
  {
   "cell_type": "code",
   "execution_count": 69,
   "metadata": {
    "colab": {
     "base_uri": "https://localhost:8080/",
     "height": 904
    },
    "id": "yAyoNCIWlGql",
    "outputId": "fa34a99c-b168-4436-c3d7-a537b7ac9b13"
   },
   "outputs": [
    {
     "name": "stdout",
     "output_type": "stream",
     "text": [
      "Requirement already satisfied: pyLDAvis in c:\\users\\user\\anaconda3\\lib\\site-packages (3.3.1)\n",
      "Requirement already satisfied: scipy in c:\\users\\user\\anaconda3\\lib\\site-packages (from pyLDAvis) (1.7.3)\n",
      "Requirement already satisfied: jinja2 in c:\\users\\user\\anaconda3\\lib\\site-packages (from pyLDAvis) (2.11.3)\n",
      "Requirement already satisfied: scikit-learn in c:\\users\\user\\anaconda3\\lib\\site-packages (from pyLDAvis) (1.0.2)\n",
      "Requirement already satisfied: future in c:\\users\\user\\anaconda3\\lib\\site-packages (from pyLDAvis) (0.18.2)\n",
      "Requirement already satisfied: joblib in c:\\users\\user\\anaconda3\\lib\\site-packages (from pyLDAvis) (1.1.0)\n",
      "Requirement already satisfied: gensim in c:\\users\\user\\anaconda3\\lib\\site-packages (from pyLDAvis) (4.1.2)\n",
      "Requirement already satisfied: numexpr in c:\\users\\user\\anaconda3\\lib\\site-packages (from pyLDAvis) (2.8.1)\n",
      "Requirement already satisfied: funcy in c:\\users\\user\\anaconda3\\lib\\site-packages (from pyLDAvis) (1.16)\n",
      "Requirement already satisfied: numpy>=1.20.0 in c:\\users\\user\\anaconda3\\lib\\site-packages (from pyLDAvis) (1.21.5)\n",
      "Requirement already satisfied: setuptools in c:\\users\\user\\anaconda3\\lib\\site-packages (from pyLDAvis) (61.2.0)\n",
      "Requirement already satisfied: sklearn in c:\\users\\user\\anaconda3\\lib\\site-packages (from pyLDAvis) (0.0)\n",
      "Requirement already satisfied: pandas>=1.2.0 in c:\\users\\user\\anaconda3\\lib\\site-packages (from pyLDAvis) (1.3.0)\n",
      "Requirement already satisfied: python-dateutil>=2.7.3 in c:\\users\\user\\anaconda3\\lib\\site-packages (from pandas>=1.2.0->pyLDAvis) (2.8.2)\n",
      "Requirement already satisfied: pytz>=2017.3 in c:\\users\\user\\anaconda3\\lib\\site-packages (from pandas>=1.2.0->pyLDAvis) (2021.3)\n",
      "Requirement already satisfied: six>=1.5 in c:\\users\\user\\anaconda3\\lib\\site-packages (from python-dateutil>=2.7.3->pandas>=1.2.0->pyLDAvis) (1.16.0)\n",
      "Requirement already satisfied: smart-open>=1.8.1 in c:\\users\\user\\anaconda3\\lib\\site-packages (from gensim->pyLDAvis) (5.1.0)\n",
      "Requirement already satisfied: MarkupSafe>=0.23 in c:\\users\\user\\anaconda3\\lib\\site-packages (from jinja2->pyLDAvis) (2.0.1)\n",
      "Requirement already satisfied: packaging in c:\\users\\user\\anaconda3\\lib\\site-packages (from numexpr->pyLDAvis) (21.3)\n",
      "Requirement already satisfied: pyparsing!=3.0.5,>=2.0.2 in c:\\users\\user\\anaconda3\\lib\\site-packages (from packaging->numexpr->pyLDAvis) (3.0.4)\n",
      "Requirement already satisfied: threadpoolctl>=2.0.0 in c:\\users\\user\\anaconda3\\lib\\site-packages (from scikit-learn->pyLDAvis) (2.2.0)\n"
     ]
    }
   ],
   "source": [
    "!pip install pyLDAvis "
   ]
  },
  {
   "cell_type": "markdown",
   "metadata": {
    "id": "eylzfskkr8f7"
   },
   "source": [
    "**Anlayizing results**\n",
    "Exploring the Intertopic Distance Plot can help you learn about how topics relate to each other, including potential higher-level structure between groups of topics"
   ]
  },
  {
   "cell_type": "code",
   "execution_count": 70,
   "metadata": {
    "colab": {
     "base_uri": "https://localhost:8080/",
     "height": 915
    },
    "id": "6gJXbv8Jkjg-",
    "outputId": "26a2d031-8393-439a-e4f7-8341fca8075b"
   },
   "outputs": [
    {
     "data": {
      "text/html": [
       "\n",
       "<link rel=\"stylesheet\" type=\"text/css\" href=\"https://cdn.jsdelivr.net/gh/bmabey/pyLDAvis@3.3.1/pyLDAvis/js/ldavis.v1.0.0.css\">\n",
       "\n",
       "\n",
       "<div id=\"ldavis_el1187620437310520161721025021\"></div>\n",
       "<script type=\"text/javascript\">\n",
       "\n",
       "var ldavis_el1187620437310520161721025021_data = {\"mdsDat\": {\"x\": [-0.36027396301029335, 0.09632753342190299, 0.08864366267866457, 0.09167180723328722, 0.08363095967643858], \"y\": [0.003218403806256744, 0.19188388770496015, -0.06571488607757005, -0.084343525541871, -0.045043879891775856], \"topics\": [1, 2, 3, 4, 5], \"cluster\": [1, 1, 1, 1, 1], \"Freq\": [74.25780852004145, 10.855159618182583, 5.594896764890624, 5.042693681759329, 4.249441415126007]}, \"tinfo\": {\"Term\": [\"the\", \"rt\", \"to\", \"amp\", \"follow\", \"of\", \"in\", \"a\", \"out\", \"is\", \"and\", \"for\", \"her\", \"100\", \"details\", \"online\", \"go\", \"about\", \"when\", \"down\", \"aitcofficial\", \"on\", \"know\", \"you\", \"2\", \"free\", \"tomorrow\", \"are\", \"last\", \"that\", \"the\", \"rt\", \"to\", \"of\", \"in\", \"a\", \"is\", \"and\", \"for\", \"on\", \"you\", \"are\", \"that\", \"this\", \"it\", \"i\", \"with\", \"have\", \"more\", \"be\", \"not\", \"at\", \"has\", \"from\", \"by\", \"we\", \"will\", \"all\", \"as\", \"new\", \"amp\", \"her\", \"go\", \"down\", \"when\", \"aitcofficial\", \"tomorrow\", \"sri\", \"very\", \"minister\", \"state\", \"did\", \"under\", \"bjp\", \"she\", \"says\", \"against\", \"abhishekaitc\", \"year\", \"covid\", \"poor\", \"mr\", \"welcome\", \"before\", \"could\", \"days\", \"national\", \"ever\", \"johnson\", \"5\", \"crude\", \"out\", \"online\", \"details\", \"2\", \"free\", \"happy\", \"thank\", \"live\", \"sure\", \"social\", \"long\", \"lets\", \"man\", \"speech\", \"him\", \"once\", \"3\", \"done\", \"used\", \"season\", \"24\", \"asansol\", \"fast\", \"episode\", \"amazing\", \"cannot\", \"ceo\", \"waiting\", \"indias\", \"musk\", \"s\", \"miltonkeynes\", \"follow\", \"100\", \"know\", \"last\", \"may\", \"thanks\", \"week\", \"1\", \"covid19\", \"cases\", \"working\", \"6\", \"look\", \"direct\", \"uk\", \"de\", \"nice\", \"states\", \"hai\", \"united\", \"worth\", \"sharing\", \"todays\", \"pe\\u2026\", \"close\", \"multiple\", \"child\", \"demolition\", \"1000\", \"community\", \"finds\", \"aitcrupak\", \"about\", \"really\", \"news\", \"media\", \"fuel\", \"the\\u2026\", \"crisis\", \"person\", \"protest\", \"learn\", \"petrol\", \"start\", \"friday\", \"things\", \"costs\", \"total\", \"including\", \"facts\", \"god\", \"arrested\", \"flag\", \"2021\", \"return\", \"quick\", \"central\", \"put\", \"12\", \"rise\", \"mind\", \"event\", \"drugs\", \"singh\", \"analysis\"], \"Freq\": [6003.0, 4989.0, 4359.0, 478.0, 345.0, 3176.0, 2979.0, 2771.0, 267.0, 2394.0, 2349.0, 2169.0, 268.0, 188.0, 191.0, 184.0, 239.0, 145.0, 190.0, 190.0, 190.0, 1509.0, 132.0, 1204.0, 110.0, 105.0, 130.0, 1031.0, 92.0, 972.0, 6003.293071978425, 4989.257505477068, 4358.922416419888, 3176.4048375496222, 2978.5433174918476, 2770.8334875564237, 2394.334331209429, 2348.6923728313463, 2169.448427089045, 1508.8499162481298, 1204.0818504022438, 1031.0199556318648, 972.3690824733205, 957.7550876011213, 902.4260819733463, 896.152585465527, 858.9921262683827, 799.2285172094213, 763.4991004336815, 728.654904966449, 653.7639225881478, 628.1559045029105, 614.6404444375097, 605.6584606894111, 553.2574947743904, 548.3919861928957, 511.81490079135637, 493.0304487711612, 488.02269157827135, 487.8621419759364, 478.18046898568116, 268.21798602749084, 238.98054815206345, 190.17419153692583, 190.38762301978738, 189.66411704565277, 129.67127371477326, 115.88962103146976, 111.46405339473607, 100.4632725679564, 96.76395566966562, 94.72647195658575, 93.73155569655768, 90.22615292226511, 85.40539134091011, 84.4202381032952, 83.33583036646742, 85.25690480340735, 81.36373458285938, 78.76862073107577, 79.10627885677819, 71.27721216368013, 66.50832749634884, 65.9340767674426, 64.62750381195573, 62.00276214037557, 61.23944405482571, 58.80233221301252, 59.66001025762417, 57.95123812835565, 61.755598720199494, 267.32550885020385, 183.39449239967416, 190.6725828763348, 109.91130207875477, 105.0409134824105, 85.50899438430298, 75.0453873113705, 71.66357368762382, 69.18511945886375, 68.00641506016397, 65.39177912504414, 61.24539782400587, 48.42513406671726, 35.835249697616085, 33.04344189526895, 32.57366223923616, 31.615313531674605, 27.21927770727905, 27.415894830483666, 26.898295558537075, 26.81801644487643, 25.17913750046947, 25.274250700852992, 23.328214161740647, 22.269353156590867, 24.020397673896035, 23.46008688712236, 21.903868747680278, 22.24710762258575, 21.21889298552453, 27.040039767613955, 22.491848788412224, 344.3412475787966, 187.32748395616647, 132.1732646863714, 91.48594350660058, 82.4027057868273, 71.45881311702779, 63.79536139008269, 61.04011299168549, 61.61426228244452, 57.08015257156206, 48.470305969638964, 38.7274736397555, 31.694314298273426, 32.39621394478033, 31.436556000067398, 31.507969580750068, 30.906842229678336, 31.596887024076548, 31.53385213651971, 27.882826015042927, 24.86048231102666, 25.2153269252937, 20.225188733941465, 26.326069674272055, 17.582291085072665, 21.32955617103019, 17.99464262658718, 18.44691249754733, 16.88140019044703, 15.464559753112159, 23.489059918394116, 41.792719561282205, 145.16697913217877, 75.46993251912401, 67.31878105040815, 59.08716555467263, 53.568113323427774, 52.46996840971008, 51.120829047949655, 50.382857902912555, 48.948980372737786, 47.433197100387154, 39.38652237669353, 35.729132444695296, 33.67069302798524, 31.6556988814421, 29.887265228782063, 26.34012910324565, 24.570325141132905, 24.59355749680447, 20.53105920700019, 20.07170291617049, 19.730687977790872, 18.968923432269065, 21.091490271121508, 18.30400542231073, 17.106298856161107, 16.489005050159726, 14.839222174664899, 14.455409717857165, 14.459796068214473, 14.139096902545967, 14.89662896000013, 20.976656298821478, 14.667964095520535], \"Total\": [6003.0, 4989.0, 4359.0, 478.0, 345.0, 3176.0, 2979.0, 2771.0, 267.0, 2394.0, 2349.0, 2169.0, 268.0, 188.0, 191.0, 184.0, 239.0, 145.0, 190.0, 190.0, 190.0, 1509.0, 132.0, 1204.0, 110.0, 105.0, 130.0, 1031.0, 92.0, 972.0, 6003.837609340801, 4989.803177585409, 4359.467170949053, 3176.9499636290216, 2979.0906090507888, 2771.377449014215, 2394.878872720115, 2349.236630785843, 2169.9949828036347, 1509.3949867272663, 1204.6260035803823, 1031.5643795294209, 972.9135335167133, 958.2995052506102, 902.9699108688953, 896.6968738659393, 859.5365934947291, 799.7731445311255, 764.0462855850267, 729.1981628946635, 654.3071810025938, 628.7011135282273, 615.1845400418783, 606.203765561892, 553.8030544672743, 548.9349309125402, 512.3590575363719, 493.57509051066677, 488.5658873613197, 488.40762218388335, 478.79616742907945, 268.8581207908644, 239.6053673804299, 190.77964513366308, 190.99748982085512, 190.27205590782978, 130.31633097735656, 116.5093021795009, 112.07002040748841, 101.07151341798051, 97.37182057687626, 95.33521019790922, 94.34586432704958, 90.83250845865878, 86.01725128280576, 85.03115728582027, 83.94626919445946, 85.8833270179161, 81.97298426055778, 79.37962508205146, 79.72097761768957, 71.8830522498859, 67.1108073956545, 66.53975836992613, 65.23945710363557, 62.61607384158634, 61.84591507846359, 59.412437427750504, 60.2850695978418, 58.57061953125212, 62.50269597821503, 267.9649577219005, 184.1070553299831, 191.41584339076337, 110.55080962249345, 105.68778258872904, 86.14878174356305, 75.70412362058116, 72.29759063792386, 69.84082326312253, 68.65819548643664, 66.02810956759893, 61.904473118954975, 49.070704542285505, 36.48195476981124, 33.680108002655416, 33.22550767091842, 32.25150387694679, 27.856661157796424, 28.058246964869383, 27.530073560128983, 27.478334346763177, 25.816475340568143, 25.932162180265216, 23.961539879570697, 22.903615409819622, 24.708065895411494, 24.13841389597869, 22.545288373077003, 22.910137198911492, 21.86452326251319, 27.965638456492265, 88.78992776741846, 345.0603832170405, 188.0852223813648, 132.83396484290242, 92.13704195778587, 83.05428428710874, 72.11697977784813, 64.44034092465976, 61.699574355282536, 62.28145567162765, 57.750268283392145, 49.16471559592056, 39.407167545431406, 32.34560367109725, 33.0645560875466, 32.086929817076324, 32.1681834916204, 31.5716272448142, 32.27716217143743, 32.21471062875449, 28.53088313044776, 25.51569604979124, 25.905638128979877, 20.885276715189214, 27.229565460370868, 18.233256379573778, 22.123383116295763, 18.673253927374812, 19.144466809470142, 17.57903349583382, 16.1073872309828, 24.88573194219802, 105.78445198622316, 145.8174671656081, 76.12470725152379, 67.9685823952492, 59.757685100130146, 54.22115680513392, 53.129674034527, 51.78488209248986, 51.050102030060266, 49.62214090618124, 48.11205248322887, 40.07969906135748, 36.38210887431221, 34.324498258603434, 32.316029475989176, 30.54590527962239, 27.009534918639492, 25.23126114083186, 25.30509374187865, 21.189868078223814, 20.734813156493598, 20.392204922336155, 19.629040411909298, 21.83324224795055, 18.958951110771984, 17.76040597254021, 17.13579987619666, 15.495868038718678, 15.109792974952068, 15.116406453087176, 14.792856866715372, 15.592958160163375, 22.34796104290439, 15.56406082313335], \"Category\": [\"Default\", \"Default\", \"Default\", \"Default\", \"Default\", \"Default\", \"Default\", \"Default\", \"Default\", \"Default\", \"Default\", \"Default\", \"Default\", \"Default\", \"Default\", \"Default\", \"Default\", \"Default\", \"Default\", \"Default\", \"Default\", \"Default\", \"Default\", \"Default\", \"Default\", \"Default\", \"Default\", \"Default\", \"Default\", \"Default\", \"Topic1\", \"Topic1\", \"Topic1\", \"Topic1\", \"Topic1\", \"Topic1\", \"Topic1\", \"Topic1\", \"Topic1\", \"Topic1\", \"Topic1\", \"Topic1\", \"Topic1\", \"Topic1\", \"Topic1\", \"Topic1\", \"Topic1\", \"Topic1\", \"Topic1\", \"Topic1\", \"Topic1\", \"Topic1\", \"Topic1\", \"Topic1\", \"Topic1\", \"Topic1\", \"Topic1\", \"Topic1\", \"Topic1\", \"Topic1\", \"Topic2\", \"Topic2\", \"Topic2\", \"Topic2\", \"Topic2\", \"Topic2\", \"Topic2\", \"Topic2\", \"Topic2\", \"Topic2\", \"Topic2\", \"Topic2\", \"Topic2\", \"Topic2\", \"Topic2\", \"Topic2\", \"Topic2\", \"Topic2\", \"Topic2\", \"Topic2\", \"Topic2\", \"Topic2\", \"Topic2\", \"Topic2\", \"Topic2\", \"Topic2\", \"Topic2\", \"Topic2\", \"Topic2\", \"Topic2\", \"Topic2\", \"Topic3\", \"Topic3\", \"Topic3\", \"Topic3\", \"Topic3\", \"Topic3\", \"Topic3\", \"Topic3\", \"Topic3\", \"Topic3\", \"Topic3\", \"Topic3\", \"Topic3\", \"Topic3\", \"Topic3\", \"Topic3\", \"Topic3\", \"Topic3\", \"Topic3\", \"Topic3\", \"Topic3\", \"Topic3\", \"Topic3\", \"Topic3\", \"Topic3\", \"Topic3\", \"Topic3\", \"Topic3\", \"Topic3\", \"Topic3\", \"Topic3\", \"Topic3\", \"Topic4\", \"Topic4\", \"Topic4\", \"Topic4\", \"Topic4\", \"Topic4\", \"Topic4\", \"Topic4\", \"Topic4\", \"Topic4\", \"Topic4\", \"Topic4\", \"Topic4\", \"Topic4\", \"Topic4\", \"Topic4\", \"Topic4\", \"Topic4\", \"Topic4\", \"Topic4\", \"Topic4\", \"Topic4\", \"Topic4\", \"Topic4\", \"Topic4\", \"Topic4\", \"Topic4\", \"Topic4\", \"Topic4\", \"Topic4\", \"Topic4\", \"Topic4\", \"Topic5\", \"Topic5\", \"Topic5\", \"Topic5\", \"Topic5\", \"Topic5\", \"Topic5\", \"Topic5\", \"Topic5\", \"Topic5\", \"Topic5\", \"Topic5\", \"Topic5\", \"Topic5\", \"Topic5\", \"Topic5\", \"Topic5\", \"Topic5\", \"Topic5\", \"Topic5\", \"Topic5\", \"Topic5\", \"Topic5\", \"Topic5\", \"Topic5\", \"Topic5\", \"Topic5\", \"Topic5\", \"Topic5\", \"Topic5\", \"Topic5\", \"Topic5\", \"Topic5\"], \"logprob\": [30.0, 29.0, 28.0, 27.0, 26.0, 25.0, 24.0, 23.0, 22.0, 21.0, 20.0, 19.0, 18.0, 17.0, 16.0, 15.0, 14.0, 13.0, 12.0, 11.0, 10.0, 9.0, 8.0, 7.0, 6.0, 5.0, 4.0, 3.0, 2.0, 1.0, -3.0566, -3.2416, -3.3767, -3.6932, -3.7575, -3.8298, -3.9758, -3.995, -4.0744, -4.4376, -4.6632, -4.8184, -4.8769, -4.8921, -4.9516, -4.9586, -5.0009, -5.073, -5.1188, -5.1655, -5.2739, -5.3139, -5.3356, -5.3503, -5.4408, -5.4497, -5.5187, -5.5561, -5.5663, -5.5666, -3.6638, -4.242, -4.3574, -4.5858, -4.5847, -4.5885, -4.9688, -5.0811, -5.1201, -5.224, -5.2615, -5.2828, -5.2933, -5.3314, -5.3864, -5.398, -5.4109, -5.3881, -5.4348, -5.4672, -5.463, -5.5672, -5.6364, -5.6451, -5.6651, -5.7066, -5.719, -5.7596, -5.7451, -5.7742, -5.7106, -3.5825, -3.9593, -3.9204, -4.4713, -4.5166, -4.7224, -4.8529, -4.899, -4.9342, -4.9514, -4.9906, -5.0561, -5.291, -5.592, -5.6732, -5.6875, -5.7173, -5.867, -5.8599, -5.8789, -5.8819, -5.945, -5.9412, -6.0213, -6.0678, -5.9921, -6.0157, -6.0843, -6.0688, -6.1161, -5.8737, -6.0578, -3.2254, -3.8342, -4.1829, -4.5509, -4.6554, -4.7979, -4.9114, -4.9555, -4.9462, -5.0226, -5.1861, -5.4105, -5.6109, -5.589, -5.6191, -5.6168, -5.6361, -5.614, -5.616, -5.739, -5.8538, -5.8396, -6.0601, -5.7965, -6.2002, -6.007, -6.177, -6.1522, -6.2408, -6.3285, -5.9105, -5.3343, -3.918, -4.5722, -4.6865, -4.8169, -4.915, -4.9357, -4.9617, -4.9763, -5.0051, -5.0366, -5.2225, -5.3199, -5.3793, -5.441, -5.4985, -5.6248, -5.6944, -5.6934, -5.874, -5.8966, -5.9137, -5.9531, -5.847, -5.9888, -6.0565, -6.0932, -6.1986, -6.2248, -6.2245, -6.247, -6.1948, -5.8525, -6.2102], \"loglift\": [30.0, 29.0, 28.0, 27.0, 26.0, 25.0, 24.0, 23.0, 22.0, 21.0, 20.0, 19.0, 18.0, 17.0, 16.0, 15.0, 14.0, 13.0, 12.0, 11.0, 10.0, 9.0, 8.0, 7.0, 6.0, 5.0, 4.0, 3.0, 2.0, 1.0, 0.2975, 0.2975, 0.2975, 0.2975, 0.2974, 0.2974, 0.2974, 0.2974, 0.2974, 0.2973, 0.2972, 0.2971, 0.2971, 0.2971, 0.297, 0.297, 0.297, 0.2969, 0.2969, 0.2969, 0.2968, 0.2968, 0.2967, 0.2967, 0.2966, 0.2966, 0.2966, 0.2965, 0.2965, 0.2965, 2.2192, 2.2181, 2.2179, 2.2174, 2.2173, 2.2173, 2.2156, 2.2152, 2.2151, 2.2145, 2.2143, 2.2141, 2.214, 2.2138, 2.2134, 2.2133, 2.2132, 2.2132, 2.2131, 2.2128, 2.2128, 2.2121, 2.2115, 2.2114, 2.2111, 2.2107, 2.2107, 2.2102, 2.2101, 2.2099, 2.2085, 2.8809, 2.8794, 2.8794, 2.8775, 2.8772, 2.8759, 2.8746, 2.8745, 2.8739, 2.8738, 2.8736, 2.8726, 2.8701, 2.8654, 2.8642, 2.8635, 2.8634, 2.8602, 2.8602, 2.8601, 2.859, 2.8583, 2.8576, 2.8565, 2.8552, 2.8551, 2.8548, 2.8545, 2.8539, 2.8533, 2.8497, 1.5102, 2.9851, 2.9832, 2.9822, 2.9801, 2.9794, 2.9781, 2.9772, 2.9765, 2.9765, 2.9756, 2.973, 2.9698, 2.9669, 2.9668, 2.9668, 2.9665, 2.9659, 2.9659, 2.9659, 2.9643, 2.9612, 2.9602, 2.9551, 2.9535, 2.9509, 2.9507, 2.9502, 2.9501, 2.9467, 2.9465, 2.9295, 2.0585, 3.1539, 3.1497, 3.1488, 3.1471, 3.1463, 3.1459, 3.1455, 3.1452, 3.1447, 3.1442, 3.1409, 3.1403, 3.1392, 3.1377, 3.1366, 3.1333, 3.1318, 3.1299, 3.1268, 3.1259, 3.1254, 3.1242, 3.1238, 3.1232, 3.1209, 3.1199, 3.1151, 3.1141, 3.114, 3.1132, 3.1127, 3.0951, 3.0991]}, \"token.table\": {\"Topic\": [4, 4, 4, 5, 3, 5, 3, 3, 2, 4, 1, 2, 5, 2, 2, 1, 2, 3, 4, 5, 1, 3, 2, 5, 1, 1, 5, 1, 3, 1, 1, 2, 2, 1, 3, 4, 5, 3, 4, 4, 4, 5, 2, 2, 4, 5, 2, 2, 4, 4, 3, 2, 4, 3, 2, 5, 3, 5, 2, 5, 3, 3, 4, 5, 4, 1, 3, 5, 1, 5, 2, 5, 4, 3, 1, 1, 2, 3, 1, 1, 5, 3, 1, 1, 2, 4, 4, 5, 3, 3, 3, 4, 3, 4, 5, 1, 2, 3, 4, 5, 5, 2, 1, 2, 4, 3, 2, 1, 5, 4, 1, 1, 1, 3, 3, 3, 5, 5, 4, 2, 5, 5, 5, 5, 5, 5, 1, 3, 2, 3, 4, 2, 1, 5, 3, 3, 2, 5, 2, 4, 3, 3, 4, 1, 1, 5, 5, 1, 1, 4, 2, 5, 4, 2, 4, 3, 2, 3, 1, 4, 2, 2, 1, 1, 4, 4, 2, 1], \"Freq\": [0.9886616015978619, 0.9942301560557247, 0.9670611301826663, 0.9679999831258449, 0.9950175885244591, 0.9679535831243362, 0.9825923092452828, 0.9922017938169213, 0.9902575807492074, 0.9896676779684307, 0.9998638045444336, 0.9897148020624326, 0.9943939009400041, 0.988727680175191, 0.9985701741302382, 0.3497678468364963, 0.1323445906948905, 0.07562548039708028, 0.3970337720846715, 0.05671911029781021, 0.9988348469731895, 0.9605470405588364, 0.9983371474476195, 0.9637587626042319, 0.9998992733287307, 0.9994528896687201, 0.9645613803728212, 0.9988417378782297, 0.968373864758946, 0.9988848221942972, 0.9997282454828509, 0.991888182597157, 0.990834686030523, 0.9985499277030049, 0.9713427227202357, 0.98700840176689, 0.9571853270856595, 0.9528380820345307, 0.9639455485373212, 0.9872070915519463, 0.9312497293879716, 0.9821283646817772, 0.9963295662737477, 0.9952176004653706, 0.9954809073006965, 0.9848434125796014, 0.9919572112794903, 0.9901610911737303, 0.9947717442091747, 0.9402194471718579, 0.9978275393332283, 0.9964838783361012, 0.9678037084566349, 0.9692475292374849, 0.9959133736037885, 0.9619726960033629, 0.9598715322803401, 0.9464027216744497, 0.9930580624931934, 0.9879433862213387, 0.9640538195856801, 0.040183668389689946, 0.9242243729628687, 0.98076691932874, 0.996926963312466, 0.9995414815188425, 0.9934923169747495, 0.9905461616318864, 0.9996638662221057, 0.9959212082853794, 0.9974734815540724, 0.9910396762489081, 0.9933350129625923, 0.9982729675272028, 0.9997000249033148, 0.9990332952082571, 0.9968082764681231, 0.9798068342713807, 0.9992228434309859, 0.999969584996672, 0.9908343407988588, 0.960273603295805, 0.9996330199701846, 0.9989258657932887, 0.9952713068137189, 0.9937217499764558, 0.9876592309279169, 0.9768861974114175, 0.9853892122267651, 0.995883809746659, 0.9844292139464275, 0.9893152814641679, 0.9781803715216102, 0.9873060818456492, 0.9873207086442427, 0.34913870052021234, 0.3040885456143785, 0.24777585198208618, 0.05631269363229231, 0.04505015490583385, 0.926146041616976, 0.9893984627147189, 0.9986305992126832, 0.9877154319099283, 0.9492219110255206, 0.9604599994185368, 0.9863222158263746, 0.999165405768934, 0.9857495572054641, 0.981894273602635, 0.9995305247878785, 0.9997009825021177, 0.9997383145361289, 0.9932128148905366, 0.9939868935060697, 0.9963989406297598, 0.9794299719627999, 0.9730611983961112, 0.9548444699875823, 0.9909562371256021, 0.9874624332038092, 0.9337177205381348, 0.9494196116035589, 0.9852254636880554, 0.9618360737041349, 0.9265514109431013, 0.9998390362191004, 0.9654705377817652, 0.9878731829751043, 0.9807456540582342, 0.9650408870659408, 0.9881738689898232, 0.04474681149122129, 0.9396830413156472, 0.990413446176769, 0.9867892284595985, 0.9956286565109089, 0.9894973412445038, 0.996181435504919, 0.991413056390605, 0.9879608626611579, 0.9906990057224606, 0.9845115563451365, 0.999061033190266, 0.9998604876754998, 0.9787374183061454, 0.9902206588769209, 0.9996874617497252, 0.9998928376036029, 0.9576124019201824, 0.9975725914397365, 0.962623017327751, 0.9661254653133603, 0.9963340806773401, 0.9813926849715631, 0.9622839243594095, 0.990452215466743, 0.9758136438951842, 0.9982968274382067, 0.9931666884696562, 0.9983488889501622, 0.9947774715689158, 0.9992992072042244, 0.9993757176846335, 0.9763099291472926, 0.9797890659621861, 0.9881304277337877, 0.9994803336649535], \"Term\": [\"1\", \"100\", \"1000\", \"12\", \"2\", \"2021\", \"24\", \"3\", \"5\", \"6\", \"a\", \"abhishekaitc\", \"about\", \"against\", \"aitcofficial\", \"aitcrupak\", \"aitcrupak\", \"aitcrupak\", \"aitcrupak\", \"aitcrupak\", \"all\", \"amazing\", \"amp\", \"analysis\", \"and\", \"are\", \"arrested\", \"as\", \"asansol\", \"at\", \"be\", \"before\", \"bjp\", \"by\", \"cannot\", \"cases\", \"central\", \"ceo\", \"child\", \"close\", \"community\", \"costs\", \"could\", \"covid\", \"covid19\", \"crisis\", \"crude\", \"days\", \"de\", \"demolition\", \"details\", \"did\", \"direct\", \"done\", \"down\", \"drugs\", \"episode\", \"event\", \"ever\", \"facts\", \"fast\", \"finds\", \"finds\", \"flag\", \"follow\", \"for\", \"free\", \"friday\", \"from\", \"fuel\", \"go\", \"god\", \"hai\", \"happy\", \"has\", \"have\", \"her\", \"him\", \"i\", \"in\", \"including\", \"indias\", \"is\", \"it\", \"johnson\", \"know\", \"last\", \"learn\", \"lets\", \"live\", \"long\", \"look\", \"man\", \"may\", \"media\", \"miltonkeynes\", \"miltonkeynes\", \"miltonkeynes\", \"miltonkeynes\", \"miltonkeynes\", \"mind\", \"minister\", \"more\", \"mr\", \"multiple\", \"musk\", \"national\", \"new\", \"news\", \"nice\", \"not\", \"of\", \"on\", \"once\", \"online\", \"out\", \"person\", \"petrol\", \"pe\\u2026\", \"poor\", \"protest\", \"put\", \"quick\", \"really\", \"return\", \"rise\", \"rt\", \"s\", \"says\", \"season\", \"sharing\", \"she\", \"singh\", \"singh\", \"social\", \"speech\", \"sri\", \"start\", \"state\", \"states\", \"sure\", \"thank\", \"thanks\", \"that\", \"the\", \"the\\u2026\", \"things\", \"this\", \"to\", \"todays\", \"tomorrow\", \"total\", \"uk\", \"under\", \"united\", \"used\", \"very\", \"waiting\", \"we\", \"week\", \"welcome\", \"when\", \"will\", \"with\", \"working\", \"worth\", \"year\", \"you\"]}, \"R\": 30, \"lambda.step\": 0.01, \"plot.opts\": {\"xlab\": \"PC1\", \"ylab\": \"PC2\"}, \"topic.order\": [2, 1, 5, 3, 4]};\n",
       "\n",
       "function LDAvis_load_lib(url, callback){\n",
       "  var s = document.createElement('script');\n",
       "  s.src = url;\n",
       "  s.async = true;\n",
       "  s.onreadystatechange = s.onload = callback;\n",
       "  s.onerror = function(){console.warn(\"failed to load library \" + url);};\n",
       "  document.getElementsByTagName(\"head\")[0].appendChild(s);\n",
       "}\n",
       "\n",
       "if(typeof(LDAvis) !== \"undefined\"){\n",
       "   // already loaded: just create the visualization\n",
       "   !function(LDAvis){\n",
       "       new LDAvis(\"#\" + \"ldavis_el1187620437310520161721025021\", ldavis_el1187620437310520161721025021_data);\n",
       "   }(LDAvis);\n",
       "}else if(typeof define === \"function\" && define.amd){\n",
       "   // require.js is available: use it to load d3/LDAvis\n",
       "   require.config({paths: {d3: \"https://d3js.org/d3.v5\"}});\n",
       "   require([\"d3\"], function(d3){\n",
       "      window.d3 = d3;\n",
       "      LDAvis_load_lib(\"https://cdn.jsdelivr.net/gh/bmabey/pyLDAvis@3.3.1/pyLDAvis/js/ldavis.v3.0.0.js\", function(){\n",
       "        new LDAvis(\"#\" + \"ldavis_el1187620437310520161721025021\", ldavis_el1187620437310520161721025021_data);\n",
       "      });\n",
       "    });\n",
       "}else{\n",
       "    // require.js not available: dynamically load d3 & LDAvis\n",
       "    LDAvis_load_lib(\"https://d3js.org/d3.v5.js\", function(){\n",
       "         LDAvis_load_lib(\"https://cdn.jsdelivr.net/gh/bmabey/pyLDAvis@3.3.1/pyLDAvis/js/ldavis.v3.0.0.js\", function(){\n",
       "                 new LDAvis(\"#\" + \"ldavis_el1187620437310520161721025021\", ldavis_el1187620437310520161721025021_data);\n",
       "            })\n",
       "         });\n",
       "}\n",
       "</script>"
      ],
      "text/plain": [
       "PreparedData(topic_coordinates=              x         y  topics  cluster       Freq\n",
       "topic                                                \n",
       "1     -0.360274  0.003218       1        1  74.257809\n",
       "0      0.096328  0.191884       2        1  10.855160\n",
       "4      0.088644 -0.065715       3        1   5.594897\n",
       "2      0.091672 -0.084344       4        1   5.042694\n",
       "3      0.083631 -0.045044       5        1   4.249441, topic_info=           Term         Freq        Total Category  logprob  loglift\n",
       "40          the  6003.000000  6003.000000  Default  30.0000  30.0000\n",
       "14           rt  4989.000000  4989.000000  Default  29.0000  29.0000\n",
       "61           to  4359.000000  4359.000000  Default  28.0000  28.0000\n",
       "839         amp   478.000000   478.000000  Default  27.0000  27.0000\n",
       "199      follow   345.000000   345.000000  Default  26.0000  26.0000\n",
       "...         ...          ...          ...      ...      ...      ...\n",
       "148        mind    14.459796    15.116406   Topic5  -6.2245   3.1140\n",
       "1645      event    14.139097    14.792857   Topic5  -6.2470   3.1132\n",
       "12690     drugs    14.896629    15.592958   Topic5  -6.1948   3.1127\n",
       "21744     singh    20.976656    22.347961   Topic5  -5.8525   3.0951\n",
       "1789   analysis    14.667964    15.564061   Topic5  -6.2102   3.0991\n",
       "\n",
       "[188 rows x 6 columns], token_table=      Topic      Freq     Term\n",
       "term                          \n",
       "770       4  0.988662        1\n",
       "1133      4  0.994230      100\n",
       "4361      4  0.967061     1000\n",
       "818       5  0.968000       12\n",
       "0         3  0.995018        2\n",
       "...     ...       ...      ...\n",
       "490       1  0.999376     with\n",
       "1217      4  0.976310  working\n",
       "1820      4  0.979789    worth\n",
       "1304      2  0.988130     year\n",
       "63        1  0.999480      you\n",
       "\n",
       "[168 rows x 3 columns], R=30, lambda_step=0.01, plot_opts={'xlab': 'PC1', 'ylab': 'PC2'}, topic_order=[2, 1, 5, 3, 4])"
      ]
     },
     "execution_count": 70,
     "metadata": {},
     "output_type": "execute_result"
    }
   ],
   "source": [
    "import pyLDAvis.gensim_models as gensimvis\n",
    "import pickle \n",
    "import pyLDAvis\n",
    "# Visualize the topics\n",
    "pyLDAvis.enable_notebook()\n",
    "\n",
    "LDAvis_prepared = gensimvis.prepare(lda_model, corpus, id2word)\n",
    "LDAvis_prepared"
   ]
  },
  {
   "cell_type": "code",
   "execution_count": null,
   "metadata": {},
   "outputs": [],
   "source": []
  },
  {
   "cell_type": "code",
   "execution_count": null,
   "metadata": {},
   "outputs": [],
   "source": []
  }
 ],
 "metadata": {
  "colab": {
   "collapsed_sections": [],
   "name": "Modeling_Twitter.ipynb",
   "provenance": []
  },
  "kernelspec": {
   "display_name": "Python 3 (ipykernel)",
   "language": "python",
   "name": "python3"
  },
  "language_info": {
   "codemirror_mode": {
    "name": "ipython",
    "version": 3
   },
   "file_extension": ".py",
   "mimetype": "text/x-python",
   "name": "python",
   "nbconvert_exporter": "python",
   "pygments_lexer": "ipython3",
   "version": "3.8.13"
  }
 },
 "nbformat": 4,
 "nbformat_minor": 1
}
